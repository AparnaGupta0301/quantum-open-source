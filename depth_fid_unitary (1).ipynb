{
 "cells": [
  {
   "cell_type": "code",
   "execution_count": null,
   "id": "2213bd94-1c5d-45a8-b638-d3e21067fc20",
   "metadata": {},
   "outputs": [],
   "source": [
    "'''\n",
    "Author: Aparna Gupta\n",
    "'''"
   ]
  },
  {
   "cell_type": "code",
   "execution_count": 14,
   "id": "74176cb8-237a-49e3-890c-ff54561dfddb",
   "metadata": {},
   "outputs": [
    {
     "name": "stdout",
     "output_type": "stream",
     "text": [
      "Defaulting to user installation because normal site-packages is not writeable\n",
      "Looking in links: /usr/share/pip-wheels\n",
      "Requirement already satisfied: qiskit in ./.local/lib/python3.9/site-packages (0.45.1)\n",
      "Requirement already satisfied: qiskit-terra==0.45.1 in ./.local/lib/python3.9/site-packages (from qiskit) (0.45.1)\n",
      "Requirement already satisfied: python-dateutil>=2.8.0 in /opt/conda/envs/anaconda-2022.05-py39/lib/python3.9/site-packages (from qiskit-terra==0.45.1->qiskit) (2.8.2)\n",
      "Requirement already satisfied: stevedore>=3.0.0 in ./.local/lib/python3.9/site-packages (from qiskit-terra==0.45.1->qiskit) (5.1.0)\n",
      "Requirement already satisfied: ply>=3.10 in ./.local/lib/python3.9/site-packages (from qiskit-terra==0.45.1->qiskit) (3.11)\n",
      "Requirement already satisfied: numpy<2,>=1.17 in /opt/conda/envs/anaconda-2022.05-py39/lib/python3.9/site-packages (from qiskit-terra==0.45.1->qiskit) (1.21.5)\n",
      "Requirement already satisfied: sympy>=1.3 in /opt/conda/envs/anaconda-2022.05-py39/lib/python3.9/site-packages (from qiskit-terra==0.45.1->qiskit) (1.10.1)\n",
      "Requirement already satisfied: dill>=0.3 in ./.local/lib/python3.9/site-packages (from qiskit-terra==0.45.1->qiskit) (0.3.7)\n",
      "Requirement already satisfied: symengine!=0.10.0,>=0.9 in ./.local/lib/python3.9/site-packages (from qiskit-terra==0.45.1->qiskit) (0.11.0)\n",
      "Requirement already satisfied: rustworkx>=0.13.0 in ./.local/lib/python3.9/site-packages (from qiskit-terra==0.45.1->qiskit) (0.13.2)\n",
      "Requirement already satisfied: psutil>=5 in /opt/conda/envs/anaconda-2022.05-py39/lib/python3.9/site-packages (from qiskit-terra==0.45.1->qiskit) (5.8.0)\n",
      "Requirement already satisfied: scipy>=1.5 in /opt/conda/envs/anaconda-2022.05-py39/lib/python3.9/site-packages (from qiskit-terra==0.45.1->qiskit) (1.7.3)\n",
      "Requirement already satisfied: typing-extensions in /opt/conda/envs/anaconda-2022.05-py39/lib/python3.9/site-packages (from qiskit-terra==0.45.1->qiskit) (4.1.1)\n",
      "Requirement already satisfied: six>=1.5 in /opt/conda/envs/anaconda-2022.05-py39/lib/python3.9/site-packages (from python-dateutil>=2.8.0->qiskit-terra==0.45.1->qiskit) (1.16.0)\n",
      "Requirement already satisfied: pbr!=2.1.0,>=2.0.0 in ./.local/lib/python3.9/site-packages (from stevedore>=3.0.0->qiskit-terra==0.45.1->qiskit) (6.0.0)\n",
      "Requirement already satisfied: mpmath>=0.19 in /opt/conda/envs/anaconda-2022.05-py39/lib/python3.9/site-packages (from sympy>=1.3->qiskit-terra==0.45.1->qiskit) (1.2.1)\n"
     ]
    }
   ],
   "source": [
    "!pip install qiskit"
   ]
  },
  {
   "cell_type": "code",
   "execution_count": 15,
   "id": "a8fd20ed-acf7-4b26-be82-698862b29e1a",
   "metadata": {},
   "outputs": [],
   "source": [
    "from qiskit import QuantumCircuit, Aer, execute\n",
    "from qiskit.quantum_info import Statevector\n",
    "from qiskit.visualization import plot_histogram\n",
    "from qiskit.quantum_info import state_fidelity\n",
    "import numpy as np"
   ]
  },
  {
   "cell_type": "code",
   "execution_count": 46,
   "id": "324e24c6-0f1f-4f36-935e-9731ae38b8ee",
   "metadata": {},
   "outputs": [
    {
     "name": "stdout",
     "output_type": "stream",
     "text": [
      "\n",
      "Unitary Matrix:\n",
      "Operator([[ 0.5+0.0000000e+00j,  0.5-6.1232340e-17j,  0. +0.0000000e+00j,\n",
      "            0. +0.0000000e+00j,  0.5-6.1232340e-17j,  0.5-1.2246468e-16j,\n",
      "            0. +0.0000000e+00j,  0. +0.0000000e+00j],\n",
      "          [ 0. +0.0000000e+00j,  0. +0.0000000e+00j,  0.5+0.0000000e+00j,\n",
      "           -0.5+6.1232340e-17j,  0. +0.0000000e+00j,  0. +0.0000000e+00j,\n",
      "            0.5-6.1232340e-17j, -0.5+1.2246468e-16j],\n",
      "          [ 0. +0.0000000e+00j,  0. +0.0000000e+00j,  0.5+0.0000000e+00j,\n",
      "            0.5-6.1232340e-17j,  0. +0.0000000e+00j,  0. +0.0000000e+00j,\n",
      "            0.5-6.1232340e-17j,  0.5-1.2246468e-16j],\n",
      "          [ 0.5+0.0000000e+00j, -0.5+6.1232340e-17j,  0. +0.0000000e+00j,\n",
      "            0. +0.0000000e+00j,  0.5-6.1232340e-17j, -0.5+1.2246468e-16j,\n",
      "            0. +0.0000000e+00j,  0. +0.0000000e+00j],\n",
      "          [ 0. +0.0000000e+00j,  0. +0.0000000e+00j,  0.5+0.0000000e+00j,\n",
      "           -0.5+6.1232340e-17j,  0. +0.0000000e+00j,  0. +0.0000000e+00j,\n",
      "           -0.5+6.1232340e-17j,  0.5-1.2246468e-16j],\n",
      "          [ 0.5+0.0000000e+00j,  0.5-6.1232340e-17j,  0. +0.0000000e+00j,\n",
      "            0. +0.0000000e+00j, -0.5+6.1232340e-17j, -0.5+1.2246468e-16j,\n",
      "            0. +0.0000000e+00j,  0. +0.0000000e+00j],\n",
      "          [ 0.5+0.0000000e+00j, -0.5+6.1232340e-17j,  0. +0.0000000e+00j,\n",
      "            0. +0.0000000e+00j, -0.5+6.1232340e-17j,  0.5-1.2246468e-16j,\n",
      "            0. +0.0000000e+00j,  0. +0.0000000e+00j],\n",
      "          [ 0. +0.0000000e+00j,  0. +0.0000000e+00j,  0.5+0.0000000e+00j,\n",
      "            0.5-6.1232340e-17j,  0. +0.0000000e+00j,  0. +0.0000000e+00j,\n",
      "           -0.5+6.1232340e-17j, -0.5+1.2246468e-16j]],\n",
      "         input_dims=(2, 2, 2), output_dims=(2, 2, 2))\n",
      "\n",
      "Circuit Depth:\n",
      "3\n",
      "\n",
      "Fidelity:\n",
      "0.2500000000000001\n"
     ]
    }
   ],
   "source": [
    "\n",
    "def circuit_properties(circuit):\n",
    "    \"\"\"\n",
    "    Calculate and display properties of a quantum circuit.\n",
    "\n",
    "    Parameters:\n",
    "    - circuit (QuantumCircuit): The quantum circuit for analysis.\n",
    "    \n",
    "    Unitary Matrix: The unitary matrix represents the transformation applied by a \n",
    "    quantum circuit. It is a matrix that, when multiplied with the input state vector, \n",
    "    gives the output state vector after applying the gates in the circuit.\n",
    "\n",
    "    Circuit Depth: The depth of a quantum circuit is the length of the longest path \n",
    "    from the input qubits to the output qubits. It indicates the \"depth\" of the \n",
    "    circuit in terms of the number of gate operations.\n",
    "\n",
    "    Fidelity: Fidelity is a measure of the similarity between two quantum states. In \n",
    "    this case, the fidelity is calculated between the final state of the circuit and \n",
    "    the target state (all qubits in state |0⟩). A fidelity of 1 indicates perfect similarity.\n",
    "    \"\"\"\n",
    "    # Calculate and print the unitary matrix\n",
    "    print(\"\\nUnitary Matrix:\")\n",
    "    unit_sim = Aer.get_backend('unitary_simulator')\n",
    "    unitary_result = execute(circuit, unit_sim).result()\n",
    "    unitary_matrix = unitary_result.get_unitary()\n",
    "    print(unitary_matrix)\n",
    "\n",
    "    # Calculate and print the circuit depth\n",
    "    print(\"\\nCircuit Depth:\")\n",
    "    depth = circuit.depth()\n",
    "    print(depth)\n",
    "\n",
    "    # Calculate and print the fidelity of the circuit\n",
    "    print(\"\\nFidelity:\")\n",
    "    target_state = Statevector.from_label('0' * circuit.num_qubits)\n",
    "    state_sim = Aer.get_backend('statevector_simulator')\n",
    "    state_result = execute(circuit, state_sim).result()\n",
    "    circuit_state = state_result.get_statevector()\n",
    "    circuit_fidelity = state_fidelity(target_state, circuit_state)\n",
    "    print(circuit_fidelity)\n",
    "\n",
    "# Example usage:\n",
    "# Create a quantum circuit\n",
    "custom_circuit = QuantumCircuit(3, 3)\n",
    "custom_circuit.h(0)\n",
    "custom_circuit.cx(0, 1)\n",
    "custom_circuit.h(2)\n",
    "custom_circuit.cx(2, 0)\n",
    "\n",
    "# Call the function to analyze the circuit properties\n",
    "circuit_properties(custom_circuit)\n"
   ]
  }
 ],
 "metadata": {
  "kernelspec": {
   "display_name": "anaconda-2022.05-py39",
   "language": "python",
   "name": "conda-env-anaconda-2022.05-py39-py"
  },
  "language_info": {
   "codemirror_mode": {
    "name": "ipython",
    "version": 3
   },
   "file_extension": ".py",
   "mimetype": "text/x-python",
   "name": "python",
   "nbconvert_exporter": "python",
   "pygments_lexer": "ipython3",
   "version": "3.9.12"
  },
  "widgets": {
   "application/vnd.jupyter.widget-state+json": {
    "state": {},
    "version_major": 2,
    "version_minor": 0
   }
  }
 },
 "nbformat": 4,
 "nbformat_minor": 5
}
