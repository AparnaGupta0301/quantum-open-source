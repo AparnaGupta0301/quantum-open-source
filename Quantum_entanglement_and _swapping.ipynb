{
 "cells": [
  {
   "cell_type": "code",
   "execution_count": 13,
   "id": "e0ba1a86",
   "metadata": {},
   "outputs": [],
   "source": [
    "#Author - Aparna Gupta\n",
    "#Solution to Selection Test for Network Simulation Position"
   ]
  },
  {
   "cell_type": "raw",
   "id": "c0c3b27c-8240-48c2-bb19-9fb041103f3e",
   "metadata": {},
   "source": [
    "!pip install qiskit-aer\n",
    "!pip install matplotlib\n",
    "!pip install pylatexenc\n",
    "!pip install numpy"
   ]
  },
  {
   "cell_type": "code",
   "execution_count": 45,
   "id": "898d7c83-93d1-415b-9a05-8843e81adc03",
   "metadata": {},
   "outputs": [],
   "source": [
    "import numpy as np\n",
    "from qiskit import QuantumCircuit, assemble, Aer, execute, QuantumRegister, ClassicalRegister\n",
    "from qiskit.visualization import plot_bloch_multivector, plot_histogram, plot_bloch_vector, plot_state_qsphere, plot_state_city, plot_state_hinton, plot_gate_map, plot_error_map, array_to_latex\n",
    "from qiskit.circuit import Gate\n",
    "from math import pi\n",
    "sim = Aer.get_backend('aer_simulator')\n",
    "backend = Aer.get_backend('statevector_simulator') # Tell Qiskit how to simulate our circuit"
   ]
  },
  {
   "cell_type": "code",
   "execution_count": 40,
   "id": "1d863b81",
   "metadata": {},
   "outputs": [
    {
     "name": "stdout",
     "output_type": "stream",
     "text": [
      "[array([1, 0]), array([0, 1]), array([0.70710678, 0.70710678]), array([ 0.70710678, -0.70710678]), array([0.70710678+0.j        , 0.        +0.70710678j]), array([0.70710678+0.j        , 0.        -0.70710678j])] \n",
      " [array([0, 1]), array([1, 0]), array([0.70710678, 0.70710678]), array([-0.70710678,  0.70710678]), array([0.        +0.70710678j, 0.70710678+0.j        ]), array([0.        -0.70710678j, 0.70710678+0.j        ])] \n",
      " [array([0.+0.j, 0.-1.j]), array([0.+1.j, 0.+0.j]), array([0.+0.70710678j, 0.-0.70710678j]), array([0.-0.70710678j, 0.-0.70710678j]), array([-0.70710678+0.j        ,  0.        -0.70710678j]), array([0.70710678+0.j        , 0.        -0.70710678j])] \n",
      " [array([1, 0]), array([ 0, -1]), array([ 0.70710678, -0.70710678]), array([0.70710678, 0.70710678]), array([0.70710678+0.j        , 0.        -0.70710678j]), array([0.70710678+0.j        , 0.        +0.70710678j])]\n"
     ]
    }
   ],
   "source": [
    "#Task-1\n",
    "#Question A\n",
    "\n",
    "#defining the initial states\n",
    "qc_zero = [1,0]\n",
    "qc_one = [0,1]\n",
    "qc_plus = [1/np.sqrt(2), 1/np.sqrt(2)]#plus state\n",
    "qc_minus = [1/np.sqrt(2), -1/np.sqrt(2)]#minus state\n",
    "qc_up =  [1/np.sqrt(2), 1j/np.sqrt(2)]#up state\n",
    "qc_down =  [1/np.sqrt(2), -1j/np.sqrt(2)]#down state\n",
    "\n",
    "def pauli_gates():\n",
    "    ''' analyzing the action of standard pauli gate\n",
    "    on the given initial states'''\n",
    "    \n",
    "    states = [qc_zero, qc_one, qc_plus, qc_minus, qc_up, qc_down]\n",
    "    i = []\n",
    "    x = []\n",
    "    y = []\n",
    "    z = []\n",
    "    i_hat = [[1,0],[0,1]]#identity gate\n",
    "    x_hat = [[0,1],[1,0]]#Pauli X-gate\n",
    "    y_hat = [[0,-1j],[1j,0]]#pauli y- gate\n",
    "    z_hat = [[1,0],[0,-1]]#pauli z gate\n",
    "\n",
    "    for vector in states:\n",
    "        #applictaion of identity gate\n",
    "        vector = np.tensordot(i_hat,vector,1)\n",
    "        i.append(vector)\n",
    "    for vector in states:\n",
    "        #application of pauli x gate\n",
    "        vector = np.dot(x_hat,vector)\n",
    "        x.append(vector)\n",
    "    for vector in states:\n",
    "        #application of pauli y gate\n",
    "        vector = np.dot(vector,y_hat)\n",
    "        y.append(vector)\n",
    "    for vector in states:\n",
    "        #application of pauli z gate\n",
    "        vector = np.dot(z_hat,vector)\n",
    "        z.append(vector)\n",
    "\n",
    "    print(i,'\\n',x,'\\n',y,'\\n',z)\n",
    "    #returning the final states\n",
    "pauli_gates()\n",
    "#action of pauli gates on one basis state\n",
    "\n"
   ]
  },
  {
   "cell_type": "code",
   "execution_count": 42,
   "id": "e584ffc0",
   "metadata": {},
   "outputs": [],
   "source": [
    "#Question B\n",
    "#c_phase\n",
    "#c_not\n",
    "\n",
    "def cnot_gate_implementation(c,t):\n",
    "    '''application of cnot gate\n",
    "    args: c - control qubit\n",
    "          t = target qubit\n",
    "    returns: final state of the two-qubit system after \n",
    "            applying the cnot gate'''\n",
    "    cnot_gate = [[1,0,0,0],[0,1,0,0],[0,0,0,1],[0,0,1,0]]\n",
    "    #defining the cnot gate operator\n",
    "    \n",
    "    initial_state = np.kron(c,t)\n",
    "    #defining the intitial state of thw two qubit system\n",
    "    \n",
    "    final_state = np.tensordot(initial_state,cnot_gate,1)\n",
    "    #calculating the final state\n",
    "    \n",
    "    return(array_to_latex(final_state, prefix=\"\\\\text{final state = }\\n\"))\n"
   ]
  },
  {
   "cell_type": "code",
   "execution_count": 19,
   "id": "28925c65-34c9-4705-8513-4a65baa9d581",
   "metadata": {},
   "outputs": [],
   "source": [
    "def cphase_gate_implementation(c,t):\n",
    "    '''application of cphase gate\n",
    "    args: c - control qubit\n",
    "          t = target qubit\n",
    "    returns: final state of the two-qubit system after\n",
    "            applying the cphase gate'''\n",
    "    \n",
    "    cphase_gate = [[1,0,0,0],[0,1,0,0],[0,0,1,0],[0,0,0,-1]]\n",
    "    #defining the cphase gate operator\n",
    "\n",
    "    initial_state = np.kron(c,t)\n",
    "    #defining the intitial state of thw two qubit system\n",
    "\n",
    "    final_state = np.tensordot(initial_state,cphase_gate,1)\n",
    "    #calculating the final state\n",
    "\n",
    "    return(array_to_latex(final_state, prefix=\"\\\\text{final state = }\\n\"))\n",
    "    "
   ]
  },
  {
   "cell_type": "code",
   "execution_count": 20,
   "id": "5f089c03-aec8-4880-b54b-a5b3d1578f10",
   "metadata": {},
   "outputs": [
    {
     "data": {
      "text/latex": [
       "$$\n",
       "\\text{final state = }\n",
       "\n",
       "\\begin{bmatrix}\n",
       "\\frac{\\sqrt{2}}{2} & 0 & 0 & \\frac{\\sqrt{2}}{2}  \\\\\n",
       " \\end{bmatrix}\n",
       "$$"
      ],
      "text/plain": [
       "<IPython.core.display.Latex object>"
      ]
     },
     "execution_count": 20,
     "metadata": {},
     "output_type": "execute_result"
    }
   ],
   "source": [
    "cnot_gate_implementation(qc_plus,qc_zero)"
   ]
  },
  {
   "cell_type": "code",
   "execution_count": 179,
   "id": "676df93f-1787-4687-9d49-8aa099f60331",
   "metadata": {},
   "outputs": [
    {
     "data": {
      "text/latex": [
       "$$\n",
       "\\text{final state = }\n",
       "\n",
       "\\begin{bmatrix}\n",
       "\\frac{1}{2} & \\frac{i}{2} & \\frac{i}{2} & \\frac{1}{2}  \\\\\n",
       " \\end{bmatrix}\n",
       "$$"
      ],
      "text/plain": [
       "<IPython.core.display.Latex object>"
      ]
     },
     "execution_count": 179,
     "metadata": {},
     "output_type": "execute_result"
    }
   ],
   "source": [
    "cnot_gate_implementation(qc_plus,qc_up)"
   ]
  },
  {
   "cell_type": "code",
   "execution_count": 180,
   "id": "49e93258-161e-4480-973a-e149be47b6f5",
   "metadata": {},
   "outputs": [
    {
     "data": {
      "text/latex": [
       "$$\n",
       "\\text{final state = }\n",
       "\n",
       "\\begin{bmatrix}\n",
       "\\frac{1}{2} & - \\frac{i}{2} & - \\frac{i}{2} & \\frac{1}{2}  \\\\\n",
       " \\end{bmatrix}\n",
       "$$"
      ],
      "text/plain": [
       "<IPython.core.display.Latex object>"
      ]
     },
     "execution_count": 180,
     "metadata": {},
     "output_type": "execute_result"
    }
   ],
   "source": [
    "cnot_gate_implementation(qc_plus,qc_down)"
   ]
  },
  {
   "cell_type": "code",
   "execution_count": 181,
   "id": "d39c8b72-b203-42f5-9ec7-281f332f618e",
   "metadata": {},
   "outputs": [
    {
     "data": {
      "text/latex": [
       "$$\n",
       "\\text{final state = }\n",
       "\n",
       "\\begin{bmatrix}\n",
       "\\frac{\\sqrt{2}}{2} & 0 & \\frac{\\sqrt{2}}{2} & 0  \\\\\n",
       " \\end{bmatrix}\n",
       "$$"
      ],
      "text/plain": [
       "<IPython.core.display.Latex object>"
      ]
     },
     "execution_count": 181,
     "metadata": {},
     "output_type": "execute_result"
    }
   ],
   "source": [
    "cphase_gate_implementation(qc_plus,qc_zero)"
   ]
  },
  {
   "cell_type": "code",
   "execution_count": 182,
   "id": "8bd74c83-89da-4d89-abd5-574392c26e76",
   "metadata": {},
   "outputs": [
    {
     "data": {
      "text/latex": [
       "$$\n",
       "\\text{final state = }\n",
       "\n",
       "\\begin{bmatrix}\n",
       "\\frac{1}{2} & \\frac{i}{2} & \\frac{1}{2} & - \\frac{i}{2}  \\\\\n",
       " \\end{bmatrix}\n",
       "$$"
      ],
      "text/plain": [
       "<IPython.core.display.Latex object>"
      ]
     },
     "execution_count": 182,
     "metadata": {},
     "output_type": "execute_result"
    }
   ],
   "source": [
    "cphase_gate_implementation(qc_plus,qc_up)"
   ]
  },
  {
   "cell_type": "code",
   "execution_count": 183,
   "id": "0932e47a-89e3-4f18-9f51-dfeba7773080",
   "metadata": {},
   "outputs": [
    {
     "data": {
      "text/latex": [
       "$$\n",
       "\\text{final state = }\n",
       "\n",
       "\\begin{bmatrix}\n",
       "\\frac{1}{2} & - \\frac{i}{2} & \\frac{1}{2} & \\frac{i}{2}  \\\\\n",
       " \\end{bmatrix}\n",
       "$$"
      ],
      "text/plain": [
       "<IPython.core.display.Latex object>"
      ]
     },
     "execution_count": 183,
     "metadata": {},
     "output_type": "execute_result"
    }
   ],
   "source": [
    "cphase_gate_implementation(qc_plus,qc_down)"
   ]
  },
  {
   "cell_type": "code",
   "execution_count": 184,
   "id": "c4426b36-623d-4434-97e4-177f1b19e4bc",
   "metadata": {},
   "outputs": [
    {
     "data": {
      "text/latex": [
       "$$\n",
       "\\text{final state = }\n",
       "\n",
       "\\begin{bmatrix}\n",
       "1 & 0 & 0 & 0  \\\\\n",
       " 0 & 1 & 0 & 0  \\\\\n",
       " 0 & 0 & 1 & 0  \\\\\n",
       " 0 & 0 & 0 & -1  \\\\\n",
       " \\end{bmatrix}\n",
       "$$"
      ],
      "text/plain": [
       "<IPython.core.display.Latex object>"
      ]
     },
     "execution_count": 184,
     "metadata": {},
     "output_type": "execute_result"
    }
   ],
   "source": [
    "##task C\n",
    "#mathematical proof\n",
    "i_hat = [[1,0],[0,1]]\n",
    "H = [[1/np.sqrt(2), 1/np.sqrt(2)],[1/np.sqrt(2), -1/np.sqrt(2)]]\n",
    "#defining the hadamard gate\n",
    "\n",
    "cnot_gate = [[1,0,0,0],[0,1,0,0],[0,0,0,1],[0,0,1,0]]\n",
    "#defining the cnot gate\n",
    "\n",
    "i_tens_h = np.kron(i_hat,H)\n",
    "h_cx = np.tensordot(i_tens_h,cnot_gate,1)\n",
    "h_cx_h = np.tensordot(h_cx,i_tens_h,1)\n",
    "#calculating H(CX)H\n",
    "\n",
    "array_to_latex(h_cx_h, prefix=\"\\\\text{final state = }\\n\")\n",
    "#printing the result H(CX)H = CZ"
   ]
  },
  {
   "cell_type": "code",
   "execution_count": 27,
   "id": "24682570-d82f-4fe3-8a04-e5a03665b34b",
   "metadata": {},
   "outputs": [],
   "source": [
    "##Task D\n",
    "\n",
    "\n",
    "def bellstates(qubit_zero,qubit_one):\n",
    "    '''creating bell states using hadamard and cnot gates\n",
    "    args: qubit_zero - first basis state\n",
    "          qubit_one - second basis state\n",
    "    Returns: Bell Pair\n",
    "    '''\n",
    "    #defining gate\n",
    "    i_hat = [[1,0],[0,1]]\n",
    "    H = [[1/np.sqrt(2), 1/np.sqrt(2)],[1/np.sqrt(2), -1/np.sqrt(2)]]\n",
    "    cnot_gate = [[1,0,0,0],[0,1,0,0],[0,0,0,1],[0,0,1,0]]\n",
    "\n",
    "    #defining initial state\n",
    "    initial_state = np.kron(qubit_zero,qubit_one)\n",
    "\n",
    "    #applying the hadamard and cnot gate\n",
    "    h_tens_i = np.kron(H,i_hat)\n",
    "    entanglement = np.tensordot(h_tens_i,cnot_gate,1)\n",
    "\n",
    "    #returning bell pairs\n",
    "    entangled_state = np.tensordot(initial_state,entanglement,1)\n",
    "    return(entangled_state)    "
   ]
  },
  {
   "cell_type": "code",
   "execution_count": 29,
   "id": "74b5a759-3942-4f96-9f02-ac6fb83e1f6c",
   "metadata": {},
   "outputs": [
    {
     "data": {
      "text/latex": [
       "$$\n",
       "\\text{bell state = }\n",
       "\n",
       "\\begin{bmatrix}\n",
       "0 & \\frac{\\sqrt{2}}{2} & \\frac{\\sqrt{2}}{2} & 0  \\\\\n",
       " \\end{bmatrix}\n",
       "$$"
      ],
      "text/plain": [
       "<IPython.core.display.Latex object>"
      ]
     },
     "execution_count": 29,
     "metadata": {},
     "output_type": "execute_result"
    }
   ],
   "source": [
    "array_to_latex(bellstates(qc_zero,qc_one), prefix=\"\\\\text{bell state = }\\n\")"
   ]
  },
  {
   "cell_type": "code",
   "execution_count": 31,
   "id": "defbaed4-7a73-4b91-8f86-d27a36d7a31e",
   "metadata": {},
   "outputs": [
    {
     "data": {
      "text/latex": [
       "$$\n",
       "\\text{bell state = }\n",
       "\n",
       "\\begin{bmatrix}\n",
       "\\frac{\\sqrt{2}}{2} & 0 & 0 & \\frac{\\sqrt{2}}{2}  \\\\\n",
       " \\end{bmatrix}\n",
       "$$"
      ],
      "text/plain": [
       "<IPython.core.display.Latex object>"
      ]
     },
     "execution_count": 31,
     "metadata": {},
     "output_type": "execute_result"
    }
   ],
   "source": [
    "array_to_latex(bellstates(qc_zero,qc_zero), prefix=\"\\\\text{bell state = }\\n\")"
   ]
  },
  {
   "cell_type": "code",
   "execution_count": 33,
   "id": "0952b85b-48ee-4fcb-aae9-c6977adbb28c",
   "metadata": {},
   "outputs": [
    {
     "data": {
      "text/latex": [
       "$$\n",
       "\\text{bell state = }\n",
       "\n",
       "\\begin{bmatrix}\n",
       "0 & \\frac{\\sqrt{2}}{2} & - \\frac{\\sqrt{2}}{2} & 0  \\\\\n",
       " \\end{bmatrix}\n",
       "$$"
      ],
      "text/plain": [
       "<IPython.core.display.Latex object>"
      ]
     },
     "execution_count": 33,
     "metadata": {},
     "output_type": "execute_result"
    }
   ],
   "source": [
    "array_to_latex(bellstates(qc_one,qc_one), prefix=\"\\\\text{bell state = }\\n\")"
   ]
  },
  {
   "cell_type": "code",
   "execution_count": 189,
   "id": "e0d575cb-1ca2-41c3-983c-75b54f36ffc3",
   "metadata": {},
   "outputs": [
    {
     "data": {
      "text/latex": [
       "$$\n",
       "\\text{bell state = }\n",
       "\n",
       "\\begin{bmatrix}\n",
       "\\frac{\\sqrt{2}}{2} & 0 & 0 & - \\frac{\\sqrt{2}}{2}  \\\\\n",
       " \\end{bmatrix}\n",
       "$$"
      ],
      "text/plain": [
       "<IPython.core.display.Latex object>"
      ]
     },
     "execution_count": 189,
     "metadata": {},
     "output_type": "execute_result"
    }
   ],
   "source": [
    "array_to_latex(bellstates(qc_one,qc_zero), prefix=\"\\\\text{bell state = }\\n\")"
   ]
  },
  {
   "cell_type": "code",
   "execution_count": 190,
   "id": "4d05c146-7b59-46da-bd59-9b672f6485d1",
   "metadata": {},
   "outputs": [],
   "source": [
    "#task E\n",
    "def bellstates_reverse(x):\n",
    "    '''reversing entanglement using hadamard and cnot gates\n",
    "    args: x: entangled pair of qubits\n",
    "    returns: decoded state'''\n",
    "\n",
    "    #defining gate\n",
    "    i_hat = [[1,0],[0,1]]\n",
    "    H = [[1/np.sqrt(2), 1/np.sqrt(2)],[1/np.sqrt(2), -1/np.sqrt(2)]]\n",
    "    cnot_gate = [[1,0,0,0],[0,1,0,0],[0,0,0,1],[0,0,1,0]]\n",
    "    \n",
    "    initial_state = x\n",
    "\n",
    "    #decoding using hadamard and cnot gate\n",
    "    h_tens_i = np.kron(H,i_hat)\n",
    "    dentanglement = np.tensordot(cnot_gate,h_tens_i,1)\n",
    "\n",
    "    #returns decoded state vector\n",
    "    dentangled_state = np.tensordot(initial_state,dentanglement,1)\n",
    "    return(array_to_latex(dentangled_state, prefix=\"\\\\text{Decoded state = }\\n\"))\n"
   ]
  },
  {
   "cell_type": "code",
   "execution_count": 191,
   "id": "154b79f9-7967-4ed5-9b70-3b56563132de",
   "metadata": {},
   "outputs": [
    {
     "data": {
      "text/latex": [
       "$$\n",
       "\\text{Decoded state = }\n",
       "\n",
       "\\begin{bmatrix}\n",
       "0 & 0 & 1 & 0  \\\\\n",
       " \\end{bmatrix}\n",
       "$$"
      ],
      "text/plain": [
       "<IPython.core.display.Latex object>"
      ]
     },
     "execution_count": 191,
     "metadata": {},
     "output_type": "execute_result"
    }
   ],
   "source": [
    "bellstates_reverse(bellstates(qc_one,qc_zero))"
   ]
  },
  {
   "cell_type": "code",
   "execution_count": 192,
   "id": "64642a9b-c461-4a1e-83c5-1924e957540d",
   "metadata": {},
   "outputs": [
    {
     "data": {
      "text/latex": [
       "$$\n",
       "\\text{Decoded state = }\n",
       "\n",
       "\\begin{bmatrix}\n",
       "0 & 0 & 0 & 1  \\\\\n",
       " \\end{bmatrix}\n",
       "$$"
      ],
      "text/plain": [
       "<IPython.core.display.Latex object>"
      ]
     },
     "execution_count": 192,
     "metadata": {},
     "output_type": "execute_result"
    }
   ],
   "source": [
    "bellstates_reverse(bellstates(qc_one,qc_one))"
   ]
  },
  {
   "cell_type": "code",
   "execution_count": 193,
   "id": "8a57a813-a321-4150-8475-2729927869f3",
   "metadata": {},
   "outputs": [
    {
     "data": {
      "text/latex": [
       "$$\n",
       "\\text{Decoded state = }\n",
       "\n",
       "\\begin{bmatrix}\n",
       "0 & 1 & 0 & 0  \\\\\n",
       " \\end{bmatrix}\n",
       "$$"
      ],
      "text/plain": [
       "<IPython.core.display.Latex object>"
      ]
     },
     "execution_count": 193,
     "metadata": {},
     "output_type": "execute_result"
    }
   ],
   "source": [
    "bellstates_reverse(bellstates(qc_zero,qc_one))"
   ]
  },
  {
   "cell_type": "code",
   "execution_count": 194,
   "id": "a62c9844-6aff-4c9d-ac46-f7cdb9637527",
   "metadata": {},
   "outputs": [
    {
     "data": {
      "text/latex": [
       "$$\n",
       "\\text{Decoded state = }\n",
       "\n",
       "\\begin{bmatrix}\n",
       "1 & 0 & 0 & 0  \\\\\n",
       " \\end{bmatrix}\n",
       "$$"
      ],
      "text/plain": [
       "<IPython.core.display.Latex object>"
      ]
     },
     "execution_count": 194,
     "metadata": {},
     "output_type": "execute_result"
    }
   ],
   "source": [
    "bellstates_reverse(bellstates(qc_zero,qc_zero))"
   ]
  },
  {
   "cell_type": "code",
   "execution_count": 195,
   "id": "8d7f31fa-c087-4906-8a85-04e13930e0fd",
   "metadata": {},
   "outputs": [],
   "source": [
    "#Task F\n",
    "\n",
    "#defining basis states\n",
    "\n",
    "i_hat = [[1,0],[0,1]]\n",
    "x_hat = [[0,1],[1,0]]\n",
    "y_hat = [[0,1j],[-1j,0]]\n",
    "z_hat = [[1,0],[0,-1]]\n",
    "cnot_gate = [[1,0,0,0],[0,1,0,0],[0,0,0,1],[0,0,1,0]]\n",
    "\n",
    "def density_operator(x,U):\n",
    "    ''' Applying the pauli gate to density operators\n",
    "    args: x - basis state\n",
    "          U - gate being applied\n",
    "    returns: resulting density operator after applying the \n",
    "    U gate to the density operator of the basis state'''\n",
    "\n",
    "    #calculating the density operator\n",
    "    x = np.array(x)\n",
    "    x = np.conjugate(x)\n",
    "    x_adj = x.reshape(-1,1)\n",
    "    rho = np.kron(x,x_adj)\n",
    "\n",
    "    #defining U and conjugate transpose of U\n",
    "    U = np.array(U)\n",
    "    U_conj = np.conj(U)\n",
    "    U_dagger = np.transpose(U_conj)\n",
    "\n",
    "    #calculating the resultant density operator\n",
    "    # by applying U(rho)U_dagg \n",
    "    u_rho = np.tensordot(U,rho,1)\n",
    "    u_rho_udag = np.tensordot(u_rho, U_dagger,1)\n",
    "    \n",
    "    return(array_to_latex(u_rho_udag, prefix=\"\\\\text{final state = }\\n\"))"
   ]
  },
  {
   "cell_type": "code",
   "execution_count": 196,
   "id": "ff0e967c-6734-40aa-b852-9ef4f8ce7ae9",
   "metadata": {},
   "outputs": [
    {
     "data": {
      "text/latex": [
       "$$\n",
       "\\text{final state = }\n",
       "\n",
       "\\begin{bmatrix}\n",
       "\\frac{1}{2} & \\frac{1}{2}  \\\\\n",
       " \\frac{1}{2} & \\frac{1}{2}  \\\\\n",
       " \\end{bmatrix}\n",
       "$$"
      ],
      "text/plain": [
       "<IPython.core.display.Latex object>"
      ]
     },
     "execution_count": 196,
     "metadata": {},
     "output_type": "execute_result"
    }
   ],
   "source": [
    "density_operator(qc_plus,i_hat)"
   ]
  },
  {
   "cell_type": "code",
   "execution_count": 197,
   "id": "87e0bb90-f40d-4d8c-b663-65c26341a99b",
   "metadata": {},
   "outputs": [
    {
     "data": {
      "text/latex": [
       "$$\n",
       "\\text{final state = }\n",
       "\n",
       "\\begin{bmatrix}\n",
       "\\frac{1}{2} & \\frac{1}{2}  \\\\\n",
       " \\frac{1}{2} & \\frac{1}{2}  \\\\\n",
       " \\end{bmatrix}\n",
       "$$"
      ],
      "text/plain": [
       "<IPython.core.display.Latex object>"
      ]
     },
     "execution_count": 197,
     "metadata": {},
     "output_type": "execute_result"
    }
   ],
   "source": [
    "density_operator(qc_plus,x_hat)"
   ]
  },
  {
   "cell_type": "code",
   "execution_count": 198,
   "id": "b5ccafae-b10b-46e7-b9a1-d910dff32f7b",
   "metadata": {},
   "outputs": [
    {
     "data": {
      "text/latex": [
       "$$\n",
       "\\text{final state = }\n",
       "\n",
       "\\begin{bmatrix}\n",
       "\\frac{1}{2} & - \\frac{1}{2}  \\\\\n",
       " - \\frac{1}{2} & \\frac{1}{2}  \\\\\n",
       " \\end{bmatrix}\n",
       "$$"
      ],
      "text/plain": [
       "<IPython.core.display.Latex object>"
      ]
     },
     "execution_count": 198,
     "metadata": {},
     "output_type": "execute_result"
    }
   ],
   "source": [
    "density_operator(qc_plus,y_hat)"
   ]
  },
  {
   "cell_type": "code",
   "execution_count": 199,
   "id": "c50124ce-28b0-4128-b02d-f4c7ddae10d2",
   "metadata": {},
   "outputs": [
    {
     "data": {
      "text/latex": [
       "$$\n",
       "\\text{final state = }\n",
       "\n",
       "\\begin{bmatrix}\n",
       "\\frac{1}{2} & - \\frac{1}{2}  \\\\\n",
       " - \\frac{1}{2} & \\frac{1}{2}  \\\\\n",
       " \\end{bmatrix}\n",
       "$$"
      ],
      "text/plain": [
       "<IPython.core.display.Latex object>"
      ]
     },
     "execution_count": 199,
     "metadata": {},
     "output_type": "execute_result"
    }
   ],
   "source": [
    "density_operator(qc_plus,z_hat)"
   ]
  },
  {
   "cell_type": "code",
   "execution_count": 200,
   "id": "d679e211-e656-4248-a6ec-d257c59eae16",
   "metadata": {},
   "outputs": [
    {
     "data": {
      "text/latex": [
       "$$\n",
       "\\text{final state = }\n",
       "\n",
       "\\begin{bmatrix}\n",
       "\\frac{1}{2} & - \\frac{1}{2}  \\\\\n",
       " - \\frac{1}{2} & \\frac{1}{2}  \\\\\n",
       " \\end{bmatrix}\n",
       "$$"
      ],
      "text/plain": [
       "<IPython.core.display.Latex object>"
      ]
     },
     "execution_count": 200,
     "metadata": {},
     "output_type": "execute_result"
    }
   ],
   "source": [
    "density_operator(qc_minus,i_hat)"
   ]
  },
  {
   "cell_type": "code",
   "execution_count": 201,
   "id": "2b356b88-6aa0-4407-8aa8-95f5c7dfdbe9",
   "metadata": {},
   "outputs": [
    {
     "data": {
      "text/latex": [
       "$$\n",
       "\\text{final state = }\n",
       "\n",
       "\\begin{bmatrix}\n",
       "\\frac{1}{2} & - \\frac{1}{2}  \\\\\n",
       " - \\frac{1}{2} & \\frac{1}{2}  \\\\\n",
       " \\end{bmatrix}\n",
       "$$"
      ],
      "text/plain": [
       "<IPython.core.display.Latex object>"
      ]
     },
     "execution_count": 201,
     "metadata": {},
     "output_type": "execute_result"
    }
   ],
   "source": [
    "density_operator(qc_minus,x_hat)"
   ]
  },
  {
   "cell_type": "code",
   "execution_count": 202,
   "id": "40acfd0f-0bcd-45c5-9694-902fc075c95b",
   "metadata": {},
   "outputs": [
    {
     "data": {
      "text/latex": [
       "$$\n",
       "\\text{final state = }\n",
       "\n",
       "\\begin{bmatrix}\n",
       "\\frac{1}{2} & \\frac{1}{2}  \\\\\n",
       " \\frac{1}{2} & \\frac{1}{2}  \\\\\n",
       " \\end{bmatrix}\n",
       "$$"
      ],
      "text/plain": [
       "<IPython.core.display.Latex object>"
      ]
     },
     "execution_count": 202,
     "metadata": {},
     "output_type": "execute_result"
    }
   ],
   "source": [
    "density_operator(qc_minus,y_hat)"
   ]
  },
  {
   "cell_type": "code",
   "execution_count": 203,
   "id": "cd5ed4f8-1695-4a67-a7b9-75cd4a81d9f9",
   "metadata": {},
   "outputs": [
    {
     "data": {
      "text/latex": [
       "$$\n",
       "\\text{final state = }\n",
       "\n",
       "\\begin{bmatrix}\n",
       "\\frac{1}{2} & \\frac{1}{2}  \\\\\n",
       " \\frac{1}{2} & \\frac{1}{2}  \\\\\n",
       " \\end{bmatrix}\n",
       "$$"
      ],
      "text/plain": [
       "<IPython.core.display.Latex object>"
      ]
     },
     "execution_count": 203,
     "metadata": {},
     "output_type": "execute_result"
    }
   ],
   "source": [
    "density_operator(qc_minus,z_hat)"
   ]
  },
  {
   "cell_type": "code",
   "execution_count": 204,
   "id": "7ad8377b-0a8b-4056-a5b6-b05adf6e10b8",
   "metadata": {},
   "outputs": [
    {
     "data": {
      "text/latex": [
       "$$\n",
       "\\text{final state = }\n",
       "\n",
       "\\begin{bmatrix}\n",
       "\\frac{1}{4} & - \\frac{i}{4} & - \\frac{i}{4} & \\frac{1}{4}  \\\\\n",
       " - \\frac{i}{4} & - \\frac{1}{4} & - \\frac{1}{4} & - \\frac{i}{4}  \\\\\n",
       " - \\frac{i}{4} & - \\frac{1}{4} & - \\frac{1}{4} & - \\frac{i}{4}  \\\\\n",
       " \\frac{1}{4} & - \\frac{i}{4} & - \\frac{i}{4} & \\frac{1}{4}  \\\\\n",
       " \\end{bmatrix}\n",
       "$$"
      ],
      "text/plain": [
       "<IPython.core.display.Latex object>"
      ]
     },
     "execution_count": 204,
     "metadata": {},
     "output_type": "execute_result"
    }
   ],
   "source": [
    "density_operator(np.kron(qc_plus,qc_up),cnot_gate)"
   ]
  },
  {
   "cell_type": "code",
   "execution_count": 205,
   "id": "612ebe0b-cab1-49b8-94bf-9781253364bf",
   "metadata": {},
   "outputs": [
    {
     "data": {
      "text/latex": [
       "$$\n",
       "\\text{final state = }\n",
       "\n",
       "\\begin{bmatrix}\n",
       "\\frac{1}{4} & \\frac{i}{4} & \\frac{i}{4} & \\frac{1}{4}  \\\\\n",
       " \\frac{i}{4} & - \\frac{1}{4} & - \\frac{1}{4} & \\frac{i}{4}  \\\\\n",
       " \\frac{i}{4} & - \\frac{1}{4} & - \\frac{1}{4} & \\frac{i}{4}  \\\\\n",
       " \\frac{1}{4} & \\frac{i}{4} & \\frac{i}{4} & \\frac{1}{4}  \\\\\n",
       " \\end{bmatrix}\n",
       "$$"
      ],
      "text/plain": [
       "<IPython.core.display.Latex object>"
      ]
     },
     "execution_count": 205,
     "metadata": {},
     "output_type": "execute_result"
    }
   ],
   "source": [
    "density_operator(np.kron(qc_plus,qc_down),cnot_gate)"
   ]
  },
  {
   "cell_type": "code",
   "execution_count": 206,
   "id": "061cb3a3-5711-41f9-bbe7-824812d6f498",
   "metadata": {},
   "outputs": [],
   "source": [
    "#task G\n",
    "def den_op(x):\n",
    "    '''calculation of the density operator\n",
    "    given a basis state x.\n",
    "    args: x : basis state\n",
    "    returns: density operator - rho'''\n",
    "    \n",
    "    x = np.array(x)\n",
    "    x = np.conjugate(x)\n",
    "    x_adj = x.reshape(-1,1)\n",
    "    rho = np.kron(x,x_adj)\n",
    "    return(rho)\n",
    "\n",
    "def adjoint(U):\n",
    "    '''calculating the conjugate transpose given a matrix U\n",
    "    args: U - matrix \n",
    "    returns: U_dagger - conjugate transpose of U'''\n",
    "    \n",
    "    U = np.array(U)\n",
    "    U_conj = np.conj(U)\n",
    "    U_dagger = np.transpose(U_conj)\n",
    "    return(U_dagger)\n",
    "    \n",
    "def k_rho_kdag(k,r):\n",
    "    '''Evaluating the operation of the gate on the\n",
    "    density operator r.\n",
    "    args: k: the gate to be applied\n",
    "          r: density operator\n",
    "    returns: resultant density vector after applying \n",
    "    the k-gate operation\n",
    "    '''\n",
    "    \n",
    "    u_rho = np.tensordot(k,r,1)\n",
    "    u_rho_udag = np.tensordot(u_rho, adjoint(k),1)\n",
    "    return(u_rho_udag)\n",
    "    \n",
    "def depolarizing_channel(state,p):\n",
    "    '''evaluating noise in a two qubit quantum system using\n",
    "    depolarizing channel.\n",
    "    args: state: basis state \n",
    "    p: probability'''\n",
    "\n",
    "    #defining gates\n",
    "    i_hat = np.array([[1,0],[0,1]])\n",
    "    x_hat = np.array([[0,1],[1,0]])\n",
    "    y_hat = np.array([[0,1j],[-1j,0]])\n",
    "    z_hat = np.array([[1,0],[0,-1]])\n",
    "\n",
    "    #defining K - the elements of depolarizing channel\n",
    "    k_zero = np.sqrt(1-(3*p/4))*i_hat\n",
    "    k_one = np.sqrt(p/4)*x_hat\n",
    "    k_two = np.sqrt(p/4)*y_hat\n",
    "    k_three = np.sqrt(p/4)*z_hat\n",
    "\n",
    "    #calculating the density operator\n",
    "    rho = den_op(state)\n",
    "\n",
    "    #calculating the state after implementing the channel\n",
    "    l = k_rho_kdag(k_zero,den_op(state))+k_rho_kdag(k_one,den_op(state))+k_rho_kdag(k_two,den_op(state))+k_rho_kdag(k_three,den_op(state))\n",
    "\n",
    "    #returning the resultant density operator\n",
    "    return(l)\n",
    "    \n",
    "    "
   ]
  },
  {
   "cell_type": "code",
   "execution_count": 207,
   "id": "57998a1e-d211-40e8-ac45-1136e586f161",
   "metadata": {},
   "outputs": [],
   "source": [
    "qc_plus = [1/np.sqrt(2), 1/np.sqrt(2)]\n",
    "qc_minus = [1/np.sqrt(2), -1/np.sqrt(2)]"
   ]
  },
  {
   "cell_type": "code",
   "execution_count": 208,
   "id": "c91f617d-fe62-45e7-9e86-aa1f3676f7ac",
   "metadata": {},
   "outputs": [
    {
     "data": {
      "text/latex": [
       "$$\n",
       "\n",
       "\\begin{bmatrix}\n",
       "\\frac{1}{2} & \\frac{1}{2}  \\\\\n",
       " \\frac{1}{2} & \\frac{1}{2}  \\\\\n",
       " \\end{bmatrix}\n",
       "$$"
      ],
      "text/plain": [
       "<IPython.core.display.Latex object>"
      ]
     },
     "execution_count": 208,
     "metadata": {},
     "output_type": "execute_result"
    }
   ],
   "source": [
    "array_to_latex(depolarizing_channel(qc_plus,0))"
   ]
  },
  {
   "cell_type": "code",
   "execution_count": 209,
   "id": "ffb91783-9070-4ac1-aaa8-af11edcb8ae6",
   "metadata": {},
   "outputs": [
    {
     "data": {
      "text/latex": [
       "$$\n",
       "\n",
       "\\begin{bmatrix}\n",
       "\\frac{1}{2} & \\frac{3}{8}  \\\\\n",
       " \\frac{3}{8} & \\frac{1}{2}  \\\\\n",
       " \\end{bmatrix}\n",
       "$$"
      ],
      "text/plain": [
       "<IPython.core.display.Latex object>"
      ]
     },
     "execution_count": 209,
     "metadata": {},
     "output_type": "execute_result"
    }
   ],
   "source": [
    "array_to_latex(depolarizing_channel(qc_plus,0.25))"
   ]
  },
  {
   "cell_type": "code",
   "execution_count": 210,
   "id": "deb0836d-5a35-4d95-acdd-089a88efaf40",
   "metadata": {},
   "outputs": [
    {
     "data": {
      "text/latex": [
       "$$\n",
       "\n",
       "\\begin{bmatrix}\n",
       "\\frac{1}{2} & \\frac{1}{4}  \\\\\n",
       " \\frac{1}{4} & \\frac{1}{2}  \\\\\n",
       " \\end{bmatrix}\n",
       "$$"
      ],
      "text/plain": [
       "<IPython.core.display.Latex object>"
      ]
     },
     "execution_count": 210,
     "metadata": {},
     "output_type": "execute_result"
    }
   ],
   "source": [
    "array_to_latex(depolarizing_channel(qc_plus,0.5))"
   ]
  },
  {
   "cell_type": "code",
   "execution_count": 211,
   "id": "ad5eeda2-b676-4184-9240-09ee945c0a02",
   "metadata": {},
   "outputs": [
    {
     "data": {
      "text/latex": [
       "$$\n",
       "\n",
       "\\begin{bmatrix}\n",
       "\\frac{1}{2} & \\frac{1}{8}  \\\\\n",
       " \\frac{1}{8} & \\frac{1}{2}  \\\\\n",
       " \\end{bmatrix}\n",
       "$$"
      ],
      "text/plain": [
       "<IPython.core.display.Latex object>"
      ]
     },
     "execution_count": 211,
     "metadata": {},
     "output_type": "execute_result"
    }
   ],
   "source": [
    "array_to_latex(depolarizing_channel(qc_plus,0.75))"
   ]
  },
  {
   "cell_type": "code",
   "execution_count": 212,
   "id": "56eb40d3-eb96-42a1-8993-ed48ab50fd9d",
   "metadata": {},
   "outputs": [
    {
     "data": {
      "text/latex": [
       "$$\n",
       "\n",
       "\\begin{bmatrix}\n",
       "\\frac{1}{2} & 0  \\\\\n",
       " 0 & \\frac{1}{2}  \\\\\n",
       " \\end{bmatrix}\n",
       "$$"
      ],
      "text/plain": [
       "<IPython.core.display.Latex object>"
      ]
     },
     "execution_count": 212,
     "metadata": {},
     "output_type": "execute_result"
    }
   ],
   "source": [
    "array_to_latex(depolarizing_channel(qc_plus,1))"
   ]
  },
  {
   "cell_type": "code",
   "execution_count": 213,
   "id": "cabc4881-51d7-48c8-8c90-a62a281beefd",
   "metadata": {},
   "outputs": [
    {
     "data": {
      "text/latex": [
       "$$\n",
       "\n",
       "\\begin{bmatrix}\n",
       "\\frac{1}{2} & - \\frac{1}{2}  \\\\\n",
       " - \\frac{1}{2} & \\frac{1}{2}  \\\\\n",
       " \\end{bmatrix}\n",
       "$$"
      ],
      "text/plain": [
       "<IPython.core.display.Latex object>"
      ]
     },
     "execution_count": 213,
     "metadata": {},
     "output_type": "execute_result"
    }
   ],
   "source": [
    "array_to_latex(depolarizing_channel(qc_minus,0))"
   ]
  },
  {
   "cell_type": "code",
   "execution_count": 214,
   "id": "2977f9b6-095a-4859-ad23-8b4c5cc6f58f",
   "metadata": {},
   "outputs": [
    {
     "data": {
      "text/latex": [
       "$$\n",
       "\n",
       "\\begin{bmatrix}\n",
       "\\frac{1}{2} & - \\frac{3}{8}  \\\\\n",
       " - \\frac{3}{8} & \\frac{1}{2}  \\\\\n",
       " \\end{bmatrix}\n",
       "$$"
      ],
      "text/plain": [
       "<IPython.core.display.Latex object>"
      ]
     },
     "execution_count": 214,
     "metadata": {},
     "output_type": "execute_result"
    }
   ],
   "source": [
    "array_to_latex(depolarizing_channel(qc_minus,0.25))"
   ]
  },
  {
   "cell_type": "code",
   "execution_count": 215,
   "id": "338fd739-fd3b-466c-8f51-fcc3750d1457",
   "metadata": {},
   "outputs": [
    {
     "data": {
      "text/latex": [
       "$$\n",
       "\n",
       "\\begin{bmatrix}\n",
       "\\frac{1}{2} & - \\frac{1}{4}  \\\\\n",
       " - \\frac{1}{4} & \\frac{1}{2}  \\\\\n",
       " \\end{bmatrix}\n",
       "$$"
      ],
      "text/plain": [
       "<IPython.core.display.Latex object>"
      ]
     },
     "execution_count": 215,
     "metadata": {},
     "output_type": "execute_result"
    }
   ],
   "source": [
    "array_to_latex(depolarizing_channel(qc_minus,0.5))"
   ]
  },
  {
   "cell_type": "code",
   "execution_count": 216,
   "id": "790bd6a9-cfe1-4d3c-a307-391feb0e87f2",
   "metadata": {},
   "outputs": [
    {
     "data": {
      "text/latex": [
       "$$\n",
       "\n",
       "\\begin{bmatrix}\n",
       "\\frac{1}{2} & - \\frac{1}{8}  \\\\\n",
       " - \\frac{1}{8} & \\frac{1}{2}  \\\\\n",
       " \\end{bmatrix}\n",
       "$$"
      ],
      "text/plain": [
       "<IPython.core.display.Latex object>"
      ]
     },
     "execution_count": 216,
     "metadata": {},
     "output_type": "execute_result"
    }
   ],
   "source": [
    "array_to_latex(depolarizing_channel(qc_minus,0.75))"
   ]
  },
  {
   "cell_type": "code",
   "execution_count": 217,
   "id": "ab200f56-75c3-437e-8aee-58d6c136f194",
   "metadata": {},
   "outputs": [
    {
     "data": {
      "text/latex": [
       "$$\n",
       "\n",
       "\\begin{bmatrix}\n",
       "\\frac{1}{2} & 0  \\\\\n",
       " 0 & \\frac{1}{2}  \\\\\n",
       " \\end{bmatrix}\n",
       "$$"
      ],
      "text/plain": [
       "<IPython.core.display.Latex object>"
      ]
     },
     "execution_count": 217,
     "metadata": {},
     "output_type": "execute_result"
    }
   ],
   "source": [
    "array_to_latex(depolarizing_channel(qc_minus,1))"
   ]
  },
  {
   "cell_type": "markdown",
   "id": "125d2ad7-bd71-4b1b-b835-2c006b0b6c5f",
   "metadata": {},
   "source": [
    "#task H\n",
    "def k_operator(order,p):\n",
    "    '''defining the elements of depolarizing channel for\n",
    "    two qubit systems.\n",
    "    args: order - qubit to be modified\n",
    "          p = probability\n",
    "    returns - the elements of depolarizing channel'''\n",
    "    \n",
    "    if order == 'one':\n",
    "        k_zero = np.sqrt(1-(3*p/4))*np.kron(i_hat,i_hat)\n",
    "        k_one = np.sqrt(p/4)*np.kron(x_hat,i_hat)\n",
    "        k_two = np.sqrt(p/4)*np.kron(y_hat,i_hat)\n",
    "        k_three = np.sqrt(p/4)*np.kron(z_hat,i_hat)\n",
    "    elif order == 'two':\n",
    "        k_zero = np.sqrt(1-(3*p/4))*np.kron(i_hat,i_hat)\n",
    "        k_one = np.sqrt(p/4)*np.kron(i_hat,x_hat)\n",
    "        k_two = np.sqrt(p/4)*np.kron(i_hat,y_hat)\n",
    "        k_three = np.sqrt(p/4)*np.kron(i_hat,z_hat)\n",
    "    return([k_zero,k_one,k_two,k_three])\n",
    "\n",
    "def depolarizing_channel_2(state,n,p):\n",
    "    '''Implementing depolarizing channel for two \n",
    "    qubit states.\n",
    "    args: state - state vector to be modified\n",
    "          n - qubit to be modified (1 or 2)\n",
    "          p - probability\n",
    "    returns - density operator after implementing \n",
    "    the depolarizing channel'''\n",
    "\n",
    "    #defining pauli gates\n",
    "    i_hat = np.array([[1,0],[0,1]])\n",
    "    x_hat = np.array([[0,1],[1,0]])\n",
    "    y_hat = np.array([[0,1j],[-1j,0]])\n",
    "    z_hat = np.array([[1,0],[0,-1]])\n",
    "    \n",
    "    #calculating the depolarizing channel to be implemented\n",
    "    operator = k_operator(n,p)\n",
    "    \n",
    "    #calculating density operator\n",
    "    rho = den_op(state)\n",
    "\n",
    "    #returns density operator after implementing the depolarizing channel\n",
    "    l = k_rho_kdag(operator[0],den_op(state))+k_rho_kdag(operator[1],den_op(state))+k_rho_kdag(operator[2],den_op(state))+k_rho_kdag(operator[3],den_op(state))\n",
    "    return(l)\n",
    "\n",
    "def depolarizing_channel_3(state,n,p):\n",
    "    '''Implementing depolarizing channel for two \n",
    "    qubit states.\n",
    "    args: state - density operator to be modified\n",
    "          n - qubit to be modified (1 or 2)\n",
    "          p - probability\n",
    "    returns - density operator after implementing \n",
    "    the depolarizing channel'''\n",
    "\n",
    "    #defining pauli gates\n",
    "    i_hat = np.array([[1,0],[0,1]])\n",
    "    x_hat = np.array([[0,1],[1,0]])\n",
    "    y_hat = np.array([[0,1j],[-1j,0]])\n",
    "    z_hat = np.array([[1,0],[0,-1]])\n",
    "    \n",
    "    #calculating the depolarizing channel to be implemented\n",
    "    operator = k_operator(n,p)\n",
    "    \n",
    "    #calculating density operator\n",
    "    rho = den_op(state)\n",
    "\n",
    "    #returns density operator after implementing the depolarizing channel\n",
    "    l = k_rho_kdag(operator[0],(state))+k_rho_kdag(operator[1],(state))+k_rho_kdag(operator[2],(state))+k_rho_kdag(operator[3],(state))\n",
    "    return(l)\n",
    "\n"
   ]
  },
  {
   "cell_type": "code",
   "execution_count": 219,
   "id": "5985c02f-f21e-41a6-87fd-02323b903a63",
   "metadata": {},
   "outputs": [
    {
     "data": {
      "text/plain": [
       "array([[0.125+0.j, 0.   +0.j, 0.   +0.j, 0.   +0.j],\n",
       "       [0.   +0.j, 0.375+0.j, 0.25 +0.j, 0.   +0.j],\n",
       "       [0.   +0.j, 0.25 +0.j, 0.375+0.j, 0.   +0.j],\n",
       "       [0.   +0.j, 0.   +0.j, 0.   +0.j, 0.125+0.j]])"
      ]
     },
     "execution_count": 219,
     "metadata": {},
     "output_type": "execute_result"
    }
   ],
   "source": [
    "l= depolarizing_channel_2(bellstates(qc_zero,qc_one),'one',0.5)\n",
    "l"
   ]
  },
  {
   "cell_type": "code",
   "execution_count": 220,
   "id": "02dfa6e9-cee4-4195-b790-a7d09b7eb751",
   "metadata": {},
   "outputs": [
    {
     "data": {
      "text/plain": [
       "array([[0.125+0.j, 0.   +0.j, 0.   +0.j, 0.   +0.j],\n",
       "       [0.   +0.j, 0.375+0.j, 0.25 +0.j, 0.   +0.j],\n",
       "       [0.   +0.j, 0.25 +0.j, 0.375+0.j, 0.   +0.j],\n",
       "       [0.   +0.j, 0.   +0.j, 0.   +0.j, 0.125+0.j]])"
      ]
     },
     "execution_count": 220,
     "metadata": {},
     "output_type": "execute_result"
    }
   ],
   "source": [
    "depolarizing_channel_2(bellstates(qc_zero,qc_one),'two',0.5)"
   ]
  },
  {
   "cell_type": "code",
   "execution_count": 221,
   "id": "b44632b0-f244-4cad-b5a7-4e258b66b638",
   "metadata": {},
   "outputs": [
    {
     "data": {
      "text/plain": [
       "array([[0.1875+0.j, 0.    +0.j, 0.    +0.j, 0.    +0.j],\n",
       "       [0.    +0.j, 0.3125+0.j, 0.125 +0.j, 0.    +0.j],\n",
       "       [0.    +0.j, 0.125 +0.j, 0.3125+0.j, 0.    +0.j],\n",
       "       [0.    +0.j, 0.    +0.j, 0.    +0.j, 0.1875+0.j]])"
      ]
     },
     "execution_count": 221,
     "metadata": {},
     "output_type": "execute_result"
    }
   ],
   "source": [
    "depolarizing_channel_3(l,'two',0.5)"
   ]
  },
  {
   "cell_type": "code",
   "execution_count": 222,
   "id": "5eeedc1e-e285-45f4-b4f1-7e2b925c85ff",
   "metadata": {},
   "outputs": [
    {
     "data": {
      "text/plain": [
       "array([ 0.35355339,  0.        ,  0.        , -0.35355339,  0.        ,\n",
       "        0.35355339, -0.35355339,  0.        ,  0.35355339,  0.        ,\n",
       "        0.        , -0.35355339,  0.        , -0.35355339,  0.35355339,\n",
       "        0.        ])"
      ]
     },
     "execution_count": 222,
     "metadata": {},
     "output_type": "execute_result"
    }
   ],
   "source": [
    "def entanglement_swapping(x,y):\n",
    "    '''\n",
    "    swaps entangelement\n",
    "    args: x: bell state 1\n",
    "          y: bell state 2\n",
    "    returns: swap: state vector after swapping entanglement'''\n",
    "    \n",
    "    #defining gates\n",
    "    i_hat = np.array([[1,0],[0,1]])\n",
    "    x_hat = np.array([[0,1],[1,0]])\n",
    "    y_hat = np.array([[0,1j],[-1j,0]])\n",
    "    z_hat = np.array([[1,0],[0,-1]])\n",
    "    cnot_gate = [[1,0,0,0],[0,1,0,0],[0,0,0,1],[0,0,1,0]]\n",
    "\n",
    "    #entanglement swapping\n",
    "    state_vector = np.kron(x,y)\n",
    "    I_tens_H = np.kron(i_hat,H)\n",
    "    I_tens_I = np.kron(i_hat,i_hat)\n",
    "    I_tens_cx = np.kron(i_hat,cnot_gate)\n",
    "    s1 = np.kron(I_tens_H,I_tens_I)\n",
    "    s2 = np.kron(I_tens_cx,i_hat)\n",
    "    U = np.tensordot(s1,s2,1)\n",
    "\n",
    "    #return the final state after swapping the entanglement\n",
    "    swap = np.tensordot(state_vector,U,1)\n",
    "    return(swap)\n",
    "\n",
    "(entanglement_swapping(bellstates(qc_zero,qc_one),bellstates(qc_one,qc_zero)))"
   ]
  },
  {
   "cell_type": "code",
   "execution_count": 223,
   "id": "270a0cba-2b17-4531-aaa3-4a49d4bb9342",
   "metadata": {},
   "outputs": [
    {
     "data": {
      "text/plain": [
       "array([[0.0625+0.j, 0.    +0.j, 0.    +0.j, 0.    +0.j],\n",
       "       [0.    +0.j, 0.4375+0.j, 0.375 +0.j, 0.    +0.j],\n",
       "       [0.    +0.j, 0.375 +0.j, 0.4375+0.j, 0.    +0.j],\n",
       "       [0.    +0.j, 0.    +0.j, 0.    +0.j, 0.0625+0.j]])"
      ]
     },
     "execution_count": 223,
     "metadata": {},
     "output_type": "execute_result"
    }
   ],
   "source": [
    "def entanglement_swapping_2(x,y):\n",
    "    '''\n",
    "    swaps entangelement after the first bell state ha\n",
    "    args: x: bell state 1\n",
    "          y: bell state 2\n",
    "    returns: swap: state vector after swapping entanglement'''\n",
    "    \n",
    "    #initializing bell states x and y\n",
    "    state_vector = np.kron(x,y)\n",
    "    \n",
    "    #depolarizing the first bell state with p =0.25\n",
    "    l = depolarizing_channel_2(x,'one',0.25)\n",
    "    L = depolarizing_channel_3(l,'two',0.25)\n",
    "\n",
    "    #calculating state vector after making it go through thedepolarizing channel\n",
    "    state_vector_2 = np.kron(l,y)\n",
    "\n",
    "    #entanglement swapping\n",
    "    I_tens_H = np.kron(i_hat,H)\n",
    "    I_tens_I = np.kron(i_hat,i_hat)\n",
    "    I_tens_cx = np.kron(i_hat,cnot_gate)\n",
    "    s1 = np.kron(I_tens_H,I_tens_I)\n",
    "    s2 = np.kron(I_tens_cx,i_hat)\n",
    "    U = np.tensordot(s1,s2,1)\n",
    "\n",
    "    #return the final state after swapping the entanglement\n",
    "    swap = np.tensordot(state_vector_2,U,1)\n",
    "    return(l)\n",
    "\n",
    "\n",
    "(entanglement_swapping_2(bellstates(qc_zero,qc_one),bellstates(qc_one,qc_zero)))\n",
    "\n"
   ]
  }
 ],
 "metadata": {
  "kernelspec": {
   "display_name": "anaconda-2022.05-py39",
   "language": "python",
   "name": "conda-env-anaconda-2022.05-py39-py"
  },
  "language_info": {
   "codemirror_mode": {
    "name": "ipython",
    "version": 3
   },
   "file_extension": ".py",
   "mimetype": "text/x-python",
   "name": "python",
   "nbconvert_exporter": "python",
   "pygments_lexer": "ipython3",
   "version": "3.9.12"
  }
 },
 "nbformat": 4,
 "nbformat_minor": 5
}
